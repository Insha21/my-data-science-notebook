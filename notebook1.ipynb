{
  "metadata": {
    "kernelspec": {
      "name": "python",
      "display_name": "Python (Pyodide)",
      "language": "python"
    },
    "language_info": {
      "codemirror_mode": {
        "name": "python",
        "version": 3
      },
      "file_extension": ".py",
      "mimetype": "text/x-python",
      "name": "python",
      "nbconvert_exporter": "python",
      "pygments_lexer": "ipython3",
      "version": "3.8"
    }
  },
  "nbformat_minor": 5,
  "nbformat": 4,
  "cells": [
    {
      "id": "d2f4a72f-56d6-43fa-baac-94d3167ad75c",
      "cell_type": "markdown",
      "source": "# Notebook",
      "metadata": {}
    },
    {
      "id": "63322b84-b91b-4dd2-979e-3f23fcd74208",
      "cell_type": "markdown",
      "source": "## Introduction\n\nI will be summarizing the fundamental concepts I have learned so far in IBM Data Science course",
      "metadata": {}
    },
    {
      "id": "609aef5e-d19a-4cad-90dc-e0d9892dfd93",
      "cell_type": "markdown",
      "source": "# Data science languages \nLanguages\nlike R,SQL and Python are used in this field",
      "metadata": {}
    },
    {
      "id": "82b2c27b-a35d-4ce2-9a1c-71337bf9a76c",
      "cell_type": "markdown",
      "source": "# Data science libraries\n\nLibraries like Pandas, Numpy, Matplotlib, Seaborn are essential for data visualization and manipulation.\n\nFor Machine Learning Scikit learn,\n\nFor deep learning Keras, Tensor Flow and PyTorch are essential.",
      "metadata": {}
    },
    {
      "id": "af3ee447-3b1b-42ab-ae73-08a520e61d21",
      "cell_type": "markdown",
      "source": "# Data Science Tools\n\nI have learned about different Data Science tools:\n\nmySQL, MongoDB, Hadoop(data management),\nAirflow, kubeflow, Kafka (data integration and transformation),\nHUE,Kibana(data visualization),IBM AI fairness 360, modelDB(model monitoring),\ngit/GitHub/GitLab(code management)\nJupyter(Development Environment)",
      "metadata": {}
    },
    {
      "id": "2a05e5c4-2b0c-41c0-9c50-bc06f03d9ad0",
      "cell_type": "markdown",
      "source": "# Arithmetic expressions\n\nAddition: 5+3=8\n\nSubtract: 5-3=2\n\nMultiplication: 5*3=15\n\nDivision: 12/3=4",
      "metadata": {}
    },
    {
      "id": "84716c2c-666a-479b-b8d4-0e70e51bce4f",
      "cell_type": "code",
      "source": "product=5*4\nsum_=5+4\nprint(product)\nprint(sum_)",
      "metadata": {
        "trusted": true
      },
      "outputs": [
        {
          "name": "stdout",
          "output_type": "stream",
          "text": "20\n9\n"
        }
      ],
      "execution_count": 5
    },
    {
      "id": "07af904e-cf4e-4d83-b032-5fa8c424dba6",
      "cell_type": "code",
      "source": "minutes= 120\nhours= minutes/60\nprint(hours)",
      "metadata": {
        "trusted": true
      },
      "outputs": [
        {
          "name": "stdout",
          "output_type": "stream",
          "text": "2.0\n"
        }
      ],
      "execution_count": 6
    },
    {
      "id": "1c604a45-a669-4a63-9fe9-a5e160128459",
      "cell_type": "markdown",
      "source": "# Objective\nTo learn how to use jupyter notebook, add markdown and code cells,\nto perform arithmetic operations in cells\n",
      "metadata": {}
    },
    {
      "id": "1929ebb5-585d-44b0-9eda-7fb3c3bab0ec",
      "cell_type": "markdown",
      "source": "# Author's Name\nInsha Abbas",
      "metadata": {}
    }
  ]
}